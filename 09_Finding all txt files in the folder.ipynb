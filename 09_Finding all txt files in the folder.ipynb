{
 "cells": [
  {
   "cell_type": "code",
   "execution_count": null,
   "metadata": {},
   "outputs": [],
   "source": [
    "import os \n",
    "import glob"
   ]
  },
  {
   "cell_type": "code",
   "execution_count": null,
   "metadata": {},
   "outputs": [],
   "source": [
    "def set_working_directory(folder_path):\n",
    "    os.chdir(folder_path)\n",
    "    new_directory = os.getcwd()\n",
    "    print(\"Patrick's Current working directory is set to:\", new_directory)\n",
    "\n",
    "# Set the working directory back to the folder you want to work with.\n",
    "folder_path = r\"C:\\Users\\patme\\OneDrive\\Desktop\\Data_Science\\R_programming\\data\"\n",
    "set_working_directory(folder_path)"
   ]
  },
  {
   "cell_type": "code",
   "execution_count": null,
   "metadata": {},
   "outputs": [],
   "source": [
    "# Finding all recurvise files in the working directory\n",
    "def all_txt_files():\n",
    "    for item in glob.iglob('**/*txt*',recursive = True):\n",
    "        print(item)\n",
    "if __name__ == \"__main__\":\n",
    "    all_txt_files()"
   ]
  }
 ],
 "metadata": {
  "kernelspec": {
   "display_name": "Python 3",
   "language": "python",
   "name": "python3"
  },
  "language_info": {
   "codemirror_mode": {
    "name": "ipython",
    "version": 3
   },
   "file_extension": ".py",
   "mimetype": "text/x-python",
   "name": "python",
   "nbconvert_exporter": "python",
   "pygments_lexer": "ipython3",
   "version": "3.12.2"
  }
 },
 "nbformat": 4,
 "nbformat_minor": 2
}
