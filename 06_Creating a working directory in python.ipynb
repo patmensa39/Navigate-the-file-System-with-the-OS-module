{
 "cells": [
  {
   "cell_type": "code",
   "execution_count": 2,
   "metadata": {},
   "outputs": [
    {
     "name": "stdout",
     "output_type": "stream",
     "text": [
      "Patrick directory already exist\n"
     ]
    }
   ],
   "source": [
    "# using os to create a new working directory \n",
    "\n",
    "import os\n",
    "\n",
    "def make_working_directory():\n",
    "    try:\n",
    "        os.mkdir(\"Patrick/\")\n",
    "    except FileExistsError as ex:\n",
    "        print(\"Patrick directory already exist\")\n",
    "\n",
    "if __name__ == \"__main__\":\n",
    "    make_working_directory()"
   ]
  },
  {
   "cell_type": "code",
   "execution_count": 11,
   "metadata": {},
   "outputs": [],
   "source": [
    "# using pathlib to create a new working directory\n",
    "\n",
    "from pathlib import Path\n",
    "\n",
    "def make_Philant_dir():\n",
    "    dir_path = Path(\"Philant/\")\n",
    "    dir_path.mkdir(exist_ok= True)\n",
    "if __name__ == \"__main__\":\n",
    "    make_Philant_dir()"
   ]
  }
 ],
 "metadata": {
  "kernelspec": {
   "display_name": "Python 3",
   "language": "python",
   "name": "python3"
  },
  "language_info": {
   "codemirror_mode": {
    "name": "ipython",
    "version": 3
   },
   "file_extension": ".py",
   "mimetype": "text/x-python",
   "name": "python",
   "nbconvert_exporter": "python",
   "pygments_lexer": "ipython3",
   "version": "3.12.2"
  }
 },
 "nbformat": 4,
 "nbformat_minor": 2
}
