{
 "cells": [
  {
   "cell_type": "code",
   "execution_count": null,
   "metadata": {},
   "outputs": [],
   "source": [
    "import os \n",
    "import glob"
   ]
  },
  {
   "cell_type": "code",
   "execution_count": null,
   "metadata": {},
   "outputs": [],
   "source": [
    "def set_working_directory(folder_path):\n",
    "    os.chdir(folder_path)\n",
    "    new_directory = os.getcwd()\n",
    "    print(\"Patrick's Current working directory is set to:\", new_directory)\n",
    "\n",
    "# Set the working directory back to the folder you want to work with.\n",
    "folder_path = r\"C:\\Users\\patme\\OneDrive\\Desktop\\Data_Science\\Python\\data\"\n",
    "set_working_directory(folder_path)"
   ]
  },
  {
   "cell_type": "code",
   "execution_count": null,
   "metadata": {},
   "outputs": [],
   "source": [
    "# A code to display all the picture files (png) in your working directory\n",
    "def display_pictures_png():\n",
    "    png_files = glob.glob('*png')\n",
    "    print(png_files)\n",
    "\n",
    "if __name__ == \"__main__\": # This line checks if the script is being run directly by the Python interpreter.\n",
    "    display_pictures_png()"
   ]
  },
  {
   "cell_type": "code",
   "execution_count": null,
   "metadata": {},
   "outputs": [],
   "source": [
    "# A code to display all the csv files in your working directory\n",
    "\n",
    "def display_all_csv_files():\n",
    "    csv_files = glob.glob('*csv')\n",
    "    print(csv_files)\n",
    "\n",
    "if __name__ == \"__main__\":\n",
    "    display_all_csv_files()\n"
   ]
  },
  {
   "cell_type": "code",
   "execution_count": null,
   "metadata": {},
   "outputs": [],
   "source": [
    "#Displaying all pictures with 'monster01'\n",
    "\n",
    "def display_monster01_pictures():\n",
    "    monster01_pictures = glob.glob('*monster01*')\n",
    "    print(monster01_pictures)\n",
    "\n",
    "if __name__ == \"__main__\":\n",
    "    display_monster01_pictures()"
   ]
  },
  {
   "cell_type": "code",
   "execution_count": null,
   "metadata": {},
   "outputs": [],
   "source": [
    "# Finding all recurvise files in the working directory\n",
    "def all_monster_files():\n",
    "    for item in glob.iglob('**/*monster*',recursive = True):\n",
    "        print(item)\n",
    "if __name__ == \"__main__\":\n",
    "    all_monster_files()\n"
   ]
  },
  {
   "cell_type": "code",
   "execution_count": null,
   "metadata": {},
   "outputs": [],
   "source": [
    "\n",
    "\n",
    "\n"
   ]
  }
 ],
 "metadata": {
  "kernelspec": {
   "display_name": "Python 3",
   "language": "python",
   "name": "python3"
  },
  "language_info": {
   "codemirror_mode": {
    "name": "ipython",
    "version": 3
   },
   "file_extension": ".py",
   "mimetype": "text/x-python",
   "name": "python",
   "nbconvert_exporter": "python",
   "pygments_lexer": "ipython3",
   "version": "3.12.2"
  }
 },
 "nbformat": 4,
 "nbformat_minor": 2
}
